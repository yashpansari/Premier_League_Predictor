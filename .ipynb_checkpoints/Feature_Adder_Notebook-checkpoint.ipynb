{
 "cells": [
  {
   "cell_type": "code",
   "execution_count": 45,
   "id": "46e2e47d-4222-416d-98f0-23e432088c8b",
   "metadata": {},
   "outputs": [],
   "source": [
    "import pandas as pd\n",
    "import numpy as np\n",
    "import os, time, requests, json"
   ]
  },
  {
   "cell_type": "code",
   "execution_count": 62,
   "id": "cea9bcf7-cc74-4da8-a98c-693ffd3ea1fc",
   "metadata": {},
   "outputs": [],
   "source": [
    "# Add FDR\n",
    "\n",
    "input_paths            = [f\"./data/20{i}-{i+1}/\" for i in range(18, 24)]\n",
    "for dir in input_paths:\n",
    "    fixtures           = pd.read_csv(os.path.join(dir, 'fixtures.csv'))\n",
    "    \n",
    "    # Note: These geniuses switched up home and away\n",
    "    home_diff          = fixtures.set_index('id')['team_a_difficulty'] \n",
    "    away_diff          = fixtures.set_index('id')['team_h_difficulty']\n",
    "\n",
    "    for player in os.listdir(dir + \"/players/\"):\n",
    "        if player[0] == '.':\n",
    "            continue\n",
    "        df             = pd.read_csv(os.path.join(dir + \"/players/\", player, 'gw.csv'))\n",
    "        if {'own_FDR', 'opp_FDR'}.issubset(df.columns):\n",
    "            continue\n",
    "        df['own_FDR']  = np.where(df['was_home'], df['fixture'].map(home_diff), df['fixture'].map(away_diff))\n",
    "        df['opp_FDR']  = np.where(df['was_home'], df['fixture'].map(away_diff), df['fixture'].map(home_diff))\n",
    "        df.to_csv(os.path.join(dir + \"/players/\", player, 'gw.csv'))"
   ]
  }
 ],
 "metadata": {
  "kernelspec": {
   "display_name": "Python 3 (ipykernel)",
   "language": "python",
   "name": "python3"
  },
  "language_info": {
   "codemirror_mode": {
    "name": "ipython",
    "version": 3
   },
   "file_extension": ".py",
   "mimetype": "text/x-python",
   "name": "python",
   "nbconvert_exporter": "python",
   "pygments_lexer": "ipython3",
   "version": "3.12.1"
  }
 },
 "nbformat": 4,
 "nbformat_minor": 5
}
