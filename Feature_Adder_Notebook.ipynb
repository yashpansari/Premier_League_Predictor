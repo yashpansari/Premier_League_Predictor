{
 "cells": [
  {
   "cell_type": "code",
   "execution_count": 1,
   "id": "46e2e47d-4222-416d-98f0-23e432088c8b",
   "metadata": {},
   "outputs": [],
   "source": [
    "import pandas as pd\n",
    "import numpy as np\n",
    "import os, time, requests, json"
   ]
  },
  {
   "cell_type": "code",
   "execution_count": 5,
   "id": "cea9bcf7-cc74-4da8-a98c-693ffd3ea1fc",
   "metadata": {},
   "outputs": [],
   "source": [
    "# Add FDR, Game week number\n",
    "\n",
    "input_paths            = [f\"./data/20{i}-{i+1}/\" for i in range(18, 24)]\n",
    "for dir in input_paths:\n",
    "    fixtures           = pd.read_csv(os.path.join(dir, 'fixtures.csv'))\n",
    "    \n",
    "    # Note: These geniuses switched up home and away\n",
    "    fixtures           = fixtures[fixtures['minutes'] > 0]\n",
    "    fixtures.dropna(subset = ['event'], inplace = True)\n",
    "    home_diff          = fixtures.set_index('id')['team_a_difficulty'] \n",
    "    away_diff          = fixtures.set_index('id')['team_h_difficulty']\n",
    "    game_week          = fixtures.set_index('id')['event']\n",
    "\n",
    "    for player in os.listdir(dir + \"/players/\"):\n",
    "        if player[0] == '.':\n",
    "            continue\n",
    "        df             = pd.read_csv(os.path.join(dir + \"/players/\", player, 'gw.csv'))\n",
    "        if not {'own_FDR', 'opp_FDR'}.issubset(df.columns):\n",
    "            df['own_FDR']  = np.where(df['was_home'], df['fixture'].map(home_diff), df['fixture'].map(away_diff))\n",
    "            df['opp_FDR']  = np.where(df['was_home'], df['fixture'].map(away_diff), df['fixture'].map(home_diff))\n",
    "        if 'gw' not in df.columns:\n",
    "            df['gw']       = df['fixture'].map(game_week).map(int)\n",
    "        df.to_csv(os.path.join(dir + \"/players/\", player, 'gw.csv'))"
   ]
  }
 ],
 "metadata": {
  "kernelspec": {
   "display_name": "Python 3",
   "language": "python",
   "name": "python3"
  },
  "language_info": {
   "codemirror_mode": {
    "name": "ipython",
    "version": 3
   },
   "file_extension": ".py",
   "mimetype": "text/x-python",
   "name": "python",
   "nbconvert_exporter": "python",
   "pygments_lexer": "ipython3",
   "version": "3.8.16"
  }
 },
 "nbformat": 4,
 "nbformat_minor": 5
}
